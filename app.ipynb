{
 "cells": [
  {
   "cell_type": "markdown",
   "metadata": {},
   "source": [
    "#### Importing Libraries"
   ]
  },
  {
   "cell_type": "code",
   "execution_count": 1,
   "metadata": {},
   "outputs": [],
   "source": [
    "import os\n",
    "from dotenv import load_dotenv\n",
    "\n",
    "import streamlit as st\n",
    "\n",
    "from io import BytesIO\n",
    "from PyPDF2 import PdfReader\n",
    "\n",
    "import google.generativeai as genai\n",
    "\n",
    "from langchain.vectorstores import FAISS\n",
    "from langchain.text_splitter import RecursiveCharacterTextSplitter\n",
    "from langchain_google_genai import GoogleGenerativeAIEmbeddings\n",
    "from langchain_google_genai import ChatGoogleGenerativeAI\n",
    "\n",
    "from langchain.prompts import PromptTemplate\n",
    "from langchain.chains.question_answering import load_qa_chain\n"
   ]
  },
  {
   "cell_type": "markdown",
   "metadata": {},
   "source": [
    "#### API KEY Configuration"
   ]
  },
  {
   "cell_type": "code",
   "execution_count": 2,
   "metadata": {},
   "outputs": [],
   "source": [
    "load_dotenv()\n",
    "os.getenv(\"GOOGLE_API_KEY\")\n",
    "genai.configure(api_key= os.getenv(\"GOOGLE_API_KEY\"))"
   ]
  },
  {
   "cell_type": "markdown",
   "metadata": {},
   "source": [
    "#### Function to load all PDF Files"
   ]
  },
  {
   "cell_type": "code",
   "execution_count": 3,
   "metadata": {},
   "outputs": [],
   "source": [
    "def get_pdf_info(pdf_docs):\n",
    "\n",
    "    text = \"\"\n",
    "\n",
    "    for pdf in pdf_docs:\n",
    "        pdf_reader = PdfReader(BytesIO(pdf.read()))\n",
    "        for page in pdf_reader.pages:\n",
    "            text += page.extract_text()\n",
    "\n",
    "    return text"
   ]
  },
  {
   "cell_type": "markdown",
   "metadata": {},
   "source": [
    "#### Function to split text into chunks"
   ]
  },
  {
   "cell_type": "code",
   "execution_count": 4,
   "metadata": {},
   "outputs": [],
   "source": [
    "def get_text_chunks(text):\n",
    "\n",
    "    text_splitter = RecursiveCharacterTextSplitter(chunk_size = 10000, chunk_overlap= 1000)\n",
    "    chunks = text_splitter.split_text(text)\n",
    "    \n",
    "    return chunks"
   ]
  },
  {
   "cell_type": "markdown",
   "metadata": {},
   "source": [
    "#### Function to convert chunks into Vectors for Vector Embedding"
   ]
  },
  {
   "cell_type": "code",
   "execution_count": 5,
   "metadata": {},
   "outputs": [],
   "source": [
    "def get_vector(text_chunks):\n",
    "\n",
    "    embeddings = GoogleGenerativeAIEmbeddings(model=\"models/embedding-001\")\n",
    "    vector_data = FAISS.from_texts(text_chunks, embedding= embeddings)\n",
    "    vector_data.save_local(\"faiss_index\")"
   ]
  },
  {
   "cell_type": "markdown",
   "metadata": {},
   "source": [
    "#### Function to get the chain of conversation based on Prompts"
   ]
  },
  {
   "cell_type": "code",
   "execution_count": 6,
   "metadata": {},
   "outputs": [],
   "source": [
    "def get_conversation_chain():\n",
    "\n",
    "    prompt_template = \"\"\"\n",
    "    Please provide a comprehensive and precise answer based on the context provided. \n",
    "    Ensure that every detail is addressed. If the context does not contain the necessary information, \n",
    "    respond with \"The answer is not available in the context.\" \n",
    "    Refrain from making assumptions or providing incorrect answers.\\n\\n\n",
    "\n",
    "    Context:\\n\n",
    "    {context}\\n\n",
    "\n",
    "    Question:\\n\n",
    "    {question}\\n\n",
    "\n",
    "    Answer:\n",
    "\n",
    "\"\"\"\n",
    "    model = ChatGoogleGenerativeAI(model= \"gemini-pro\", temperature= 0.6)\n",
    "\n",
    "    prompt = PromptTemplate(template=prompt_template, input_variables= ['context', 'question'])\n",
    "\n",
    "    chain = load_qa_chain(model, chain_type= \"stuff\", prompt=prompt)\n",
    "    \n",
    "    return chain\n",
    "\n"
   ]
  },
  {
   "cell_type": "markdown",
   "metadata": {},
   "source": [
    "#### Function to get user input and utilizing FAISS for similarity search"
   ]
  },
  {
   "cell_type": "code",
   "execution_count": 7,
   "metadata": {},
   "outputs": [],
   "source": [
    "def user_input(user_question):\n",
    "\n",
    "    embeddings = GoogleGenerativeAIEmbeddings(model=\"models/embedding-001\")\n",
    "\n",
    "    new_db = FAISS.load_local(\"faiss_index\", embeddings, allow_dangerous_deserialization=True)\n",
    "\n",
    "    docs = new_db.similarity_search(user_question)\n",
    "\n",
    "    # Calling get_conversational_chain to get the output from PDF using prompt templates\n",
    "    chain = get_conversation_chain()\n",
    "    response = chain({\"input_documents\":docs, \"question\": user_question}, \n",
    "                     return_only_outputs=True)\n",
    "    \n",
    "    print(response)\n",
    "\n",
    "    st.write(\"Reply: \", response[\"output_text\"])\n",
    "    "
   ]
  },
  {
   "cell_type": "markdown",
   "metadata": {},
   "source": [
    "#### Main Function to call every relevant function as per the requirements"
   ]
  },
  {
   "cell_type": "code",
   "execution_count": 8,
   "metadata": {},
   "outputs": [],
   "source": [
    "def main():\n",
    "\n",
    "    st.set_page_config(\"Information on Multiple PDF\")\n",
    "    st.header(\"Find information on PDF with Gemini AI\")\n",
    "\n",
    "    user_question = st.text_input(\"Ask Questions from the PDF Files\")\n",
    "\n",
    "    # Calling user_input function to accomplish Vector Embedding from all PDF.\n",
    "    if user_question:\n",
    "        user_input(user_question)\n",
    "\n",
    "    with st.sidebar:\n",
    "        st.title('Menu:')\n",
    "        pdf_docs= st.file_uploader(\"Upload your PDF Files then click Submit & Proceed\", accept_multiple_files=True)\n",
    "\n",
    "        if st.button(\"Submit & Proceed\"):\n",
    "            with st.spinner(\"Processing....\"):\n",
    "\n",
    "                # Calling get_pdf_info function to read pdf files and extrack all text from all pages of every PDF Files.\n",
    "                raw_text = get_pdf_info(pdf_docs)\n",
    "\n",
    "                # Calling get_text_chunks function to split all raw_text using Recursive Character Text Splitter Function in chunks \n",
    "                text_chunks = get_text_chunks(raw_text)\n",
    "\n",
    "                # Calling get_vector function to convert chunks into Vectors that will do Vector embedding \n",
    "                # i.e., Vector Embedding will find out the Similarity in text at the higer dimentional Space by either classifying or Clustering all the vetors.\n",
    "                get_vector(text_chunks)\n",
    "\n",
    "                st.success(\"Done\")\n",
    "\n"
   ]
  },
  {
   "cell_type": "code",
   "execution_count": 9,
   "metadata": {},
   "outputs": [
    {
     "name": "stderr",
     "output_type": "stream",
     "text": [
      "2024-08-16 03:19:54.997 \n",
      "  \u001b[33m\u001b[1mWarning:\u001b[0m to view this Streamlit app on a browser, run it with the following\n",
      "  command:\n",
      "\n",
      "    streamlit run c:\\Python\\Lib\\site-packages\\ipykernel_launcher.py [ARGUMENTS]\n",
      "2024-08-16 03:19:54.998 Session state does not function when running a script without `streamlit run`\n"
     ]
    }
   ],
   "source": [
    "if __name__ == \"__main__\":\n",
    "    main()"
   ]
  },
  {
   "cell_type": "code",
   "execution_count": null,
   "metadata": {},
   "outputs": [],
   "source": []
  }
 ],
 "metadata": {
  "kernelspec": {
   "display_name": "Python 3",
   "language": "python",
   "name": "python3"
  },
  "language_info": {
   "codemirror_mode": {
    "name": "ipython",
    "version": 3
   },
   "file_extension": ".py",
   "mimetype": "text/x-python",
   "name": "python",
   "nbconvert_exporter": "python",
   "pygments_lexer": "ipython3",
   "version": "3.12.4"
  }
 },
 "nbformat": 4,
 "nbformat_minor": 2
}
